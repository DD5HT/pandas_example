{
 "cells": [
  {
   "cell_type": "code",
   "execution_count": null,
   "source": [
    "import pandas as pd\n",
    "import numpy as np"
   ],
   "outputs": [],
   "metadata": {}
  },
  {
   "cell_type": "code",
   "execution_count": null,
   "source": [
    "x = np.arange(100)\n",
    "df = pd.DataFrame({\"x\": x, \"y\": list(range(10))})"
   ],
   "outputs": [],
   "metadata": {}
  },
  {
   "cell_type": "code",
   "execution_count": null,
   "source": [
    "df2 = pd.DataFrame({\"mario\": [0,1,2,3,4,5]})\n",
    "df2"
   ],
   "outputs": [],
   "metadata": {}
  },
  {
   "cell_type": "code",
   "execution_count": null,
   "source": [
    "path = \"../data/example_df.parquet\"\n",
    "df.to_parquet(path)\n",
    "pd.read_parquet(path).head()"
   ],
   "outputs": [],
   "metadata": {}
  }
 ],
 "metadata": {
  "orig_nbformat": 4,
  "language_info": {
   "name": "python",
   "version": "3.8.10",
   "mimetype": "text/x-python",
   "codemirror_mode": {
    "name": "ipython",
    "version": 3
   },
   "pygments_lexer": "ipython3",
   "nbconvert_exporter": "python",
   "file_extension": ".py"
  },
  "kernelspec": {
   "name": "python3",
   "display_name": "Python 3.8.10 64-bit ('pandas_demo-9HBj0svh-py3.8': poetry)"
  },
  "interpreter": {
   "hash": "343f7a213f5de0589da7ed71142dc9c8d334db81cb4447327077542b5bdf3887"
  }
 },
 "nbformat": 4,
 "nbformat_minor": 2
}