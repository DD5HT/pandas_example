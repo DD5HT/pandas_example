{
 "cells": [
  {
   "cell_type": "code",
   "execution_count": null,
   "source": [
    "import pandas as pd\n",
    "import altair as alt\n",
    "from functools import partial"
   ],
   "outputs": [],
   "metadata": {}
  },
  {
   "cell_type": "code",
   "execution_count": null,
   "source": [
    "df = pd.read_csv(\"../data/WHO-COVID-19-global-data.csv\", parse_dates=[\"Date_reported\"])\n",
    "df.to_parquet(\"../data/WHO-COVID-19-global-data.parquet\")"
   ],
   "outputs": [],
   "metadata": {}
  },
  {
   "cell_type": "code",
   "execution_count": null,
   "source": [
    "df.dtypes"
   ],
   "outputs": [],
   "metadata": {}
  },
  {
   "cell_type": "code",
   "execution_count": null,
   "source": [
    "df_germany = df[df[\"Country\"] == \"Germany\"]\n",
    "df_germany.head()"
   ],
   "outputs": [],
   "metadata": {}
  },
  {
   "cell_type": "code",
   "execution_count": null,
   "source": [
    "df_germany = df_germany.reset_index(drop=True)\n",
    "df_germany.tail()"
   ],
   "outputs": [],
   "metadata": {}
  },
  {
   "cell_type": "code",
   "execution_count": null,
   "source": [
    "df_germany.describe()"
   ],
   "outputs": [],
   "metadata": {}
  },
  {
   "cell_type": "code",
   "execution_count": null,
   "source": [
    "df_germany.count()"
   ],
   "outputs": [],
   "metadata": {}
  },
  {
   "cell_type": "code",
   "execution_count": null,
   "source": [
    "ger_chart = (\n",
    "    alt.Chart(df_germany)\n",
    "    .mark_area(opacity=0.5)\n",
    "    .encode(\n",
    "        x=\"Date_reported:T\",\n",
    "        y=\"New_cases:Q\",\n",
    "        color=alt.value(\"#F48A22\"),\n",
    "    )\n",
    "    .properties(width=1200, height=400)\n",
    ")\n",
    "ger_chart"
   ],
   "outputs": [],
   "metadata": {}
  },
  {
   "cell_type": "code",
   "execution_count": null,
   "source": [
    "def plot_country(data: pd.DataFrame, country: str, color=\"blue\") -> alt.Chart:\n",
    "    df_internal = data[data[\"Country\"] == country]\n",
    "    df_internal[\"average_cases\"] = df_internal[\"New_cases\"].rolling(window=7).max()\n",
    "    return (\n",
    "        alt.Chart(df_internal)\n",
    "        .mark_bar()\n",
    "        .encode(\n",
    "            x=\"Date_reported:T\",\n",
    "            y=\"average_cases:Q\",\n",
    "            color=alt.value(color),\n",
    "        )\n",
    "        .properties(width=1200, height=400)\n",
    "    )"
   ],
   "outputs": [],
   "metadata": {}
  },
  {
   "cell_type": "code",
   "execution_count": null,
   "source": [
    "df_germany[\"incidence\"] = df_germany[\"Cumulative_cases\"].apply(lambda x: x / 83_100)\n",
    "df_germany.describe()"
   ],
   "outputs": [],
   "metadata": {}
  },
  {
   "cell_type": "code",
   "execution_count": null,
   "source": [
    "plotty = partial(plot_country, df)"
   ],
   "outputs": [],
   "metadata": {}
  },
  {
   "cell_type": "code",
   "execution_count": null,
   "source": [
    "plotty(\"France\") + plotty(\"Germany\",'red') + plotty(\"Sweden\", \"green\")"
   ],
   "outputs": [],
   "metadata": {}
  },
  {
   "cell_type": "code",
   "execution_count": null,
   "source": [
    "df_germany[\"average_death\"] = df_germany[\"New_deaths\"].rolling(window=21).mean()"
   ],
   "outputs": [],
   "metadata": {}
  },
  {
   "cell_type": "markdown",
   "source": [],
   "metadata": {}
  },
  {
   "cell_type": "code",
   "execution_count": null,
   "source": [
    "ger_chart = (\n",
    "    alt.Chart(df_germany)\n",
    "    .mark_area(opacity=0.5)\n",
    "    .encode(\n",
    "        x=\"Date_reported:T\",\n",
    "        y=\"average_death:Q\",\n",
    "        color=alt.value(\"#F48A22\"),\n",
    "    )\n",
    "    .properties(width=1200, height=400)\n",
    ")\n",
    "ger_chart"
   ],
   "outputs": [],
   "metadata": {}
  }
 ],
 "metadata": {
  "orig_nbformat": 4,
  "language_info": {
   "name": "python",
   "version": "3.8.10",
   "mimetype": "text/x-python",
   "codemirror_mode": {
    "name": "ipython",
    "version": 3
   },
   "pygments_lexer": "ipython3",
   "nbconvert_exporter": "python",
   "file_extension": ".py"
  },
  "kernelspec": {
   "name": "python3",
   "display_name": "Python 3.8.10 64-bit ('pandas_demo-9HBj0svh-py3.8': poetry)"
  },
  "interpreter": {
   "hash": "343f7a213f5de0589da7ed71142dc9c8d334db81cb4447327077542b5bdf3887"
  }
 },
 "nbformat": 4,
 "nbformat_minor": 2
}